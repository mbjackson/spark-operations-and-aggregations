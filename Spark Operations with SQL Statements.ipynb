{
 "cells": [
  {
   "cell_type": "markdown",
   "metadata": {},
   "source": [
    "## Joining Datasets and Performing Aggregations on Grouped Data"
   ]
  },
  {
   "cell_type": "markdown",
   "metadata": {},
   "source": [
    "### Import Libraries and Start Spark Session"
   ]
  },
  {
   "cell_type": "code",
   "execution_count": 1,
   "metadata": {},
   "outputs": [],
   "source": [
    "import os\n",
    "from pyspark.sql import SparkSession\n",
    "from pyspark.sql.window import Window\n",
    "import pyspark.sql.functions as psf\n",
    "\n",
    "os.environ['PYSPARK_PYTHON'] = '/usr/bin/python3'\n",
    "os.environ['PYSPARK_DRIVER_PYTHON'] = 'ipython3'"
   ]
  },
  {
   "cell_type": "code",
   "execution_count": 2,
   "metadata": {},
   "outputs": [],
   "source": [
    "spark = SparkSession.builder.appName(\"Week 4 Assignment\").getOrCreate()"
   ]
  },
  {
   "cell_type": "markdown",
   "metadata": {},
   "source": [
    "### 1) Flight Data"
   ]
  },
  {
   "cell_type": "code",
   "execution_count": 3,
   "metadata": {},
   "outputs": [],
   "source": [
    "df_flights = spark.read.parquet(\"data/domestic-flights/flights.parquet\")"
   ]
  },
  {
   "cell_type": "code",
   "execution_count": 4,
   "metadata": {},
   "outputs": [],
   "source": [
    "df_airport_codes = spark.read.format(\"csv\").options(header=\"true\", inferSchema=\"true\").load(\"data/airport-codes/airport-codes.csv\")"
   ]
  },
  {
   "cell_type": "code",
   "execution_count": 5,
   "metadata": {},
   "outputs": [
    {
     "name": "stdout",
     "output_type": "stream",
     "text": [
      "root\n",
      " |-- origin_airport_code: string (nullable = true)\n",
      " |-- destination_airport_code: string (nullable = true)\n",
      " |-- origin_city: string (nullable = true)\n",
      " |-- destination_city: string (nullable = true)\n",
      " |-- passengers: long (nullable = true)\n",
      " |-- seats: long (nullable = true)\n",
      " |-- flights: long (nullable = true)\n",
      " |-- distance: double (nullable = true)\n",
      " |-- origin_population: long (nullable = true)\n",
      " |-- destination_population: long (nullable = true)\n",
      " |-- flight_year: long (nullable = true)\n",
      " |-- flight_month: long (nullable = true)\n",
      " |-- __index_level_0__: long (nullable = true)\n",
      "\n"
     ]
    }
   ],
   "source": [
    "df_flights.printSchema()"
   ]
  },
  {
   "cell_type": "code",
   "execution_count": 6,
   "metadata": {},
   "outputs": [
    {
     "name": "stdout",
     "output_type": "stream",
     "text": [
      "root\n",
      " |-- ident: string (nullable = true)\n",
      " |-- type: string (nullable = true)\n",
      " |-- name: string (nullable = true)\n",
      " |-- elevation_ft: double (nullable = true)\n",
      " |-- continent: string (nullable = true)\n",
      " |-- iso_country: string (nullable = true)\n",
      " |-- iso_region: string (nullable = true)\n",
      " |-- municipality: string (nullable = true)\n",
      " |-- gps_code: string (nullable = true)\n",
      " |-- iata_code: string (nullable = true)\n",
      " |-- local_code: string (nullable = true)\n",
      " |-- coordinates: string (nullable = true)\n",
      "\n"
     ]
    }
   ],
   "source": [
    "df_airport_codes.printSchema()"
   ]
  },
  {
   "cell_type": "code",
   "execution_count": 7,
   "metadata": {},
   "outputs": [
    {
     "name": "stdout",
     "output_type": "stream",
     "text": [
      "+-------------------+------------------------+-------------+----------------+----------+-----+-------+--------+-----------------+----------------------+-----------+------------+-----------------+\n",
      "|origin_airport_code|destination_airport_code|  origin_city|destination_city|passengers|seats|flights|distance|origin_population|destination_population|flight_year|flight_month|__index_level_0__|\n",
      "+-------------------+------------------------+-------------+----------------+----------+-----+-------+--------+-----------------+----------------------+-----------+------------+-----------------+\n",
      "|                MHK|                     AMW|Manhattan, KS|        Ames, IA|        21|   30|      1|   254.0|           122049|                 86219|       2008|          10|                0|\n",
      "|                EUG|                     RDM|   Eugene, OR|        Bend, OR|        41|  396|     22|   103.0|           284093|                 76034|       1990|          11|                1|\n",
      "|                EUG|                     RDM|   Eugene, OR|        Bend, OR|        88|  342|     19|   103.0|           284093|                 76034|       1990|          12|                2|\n",
      "|                EUG|                     RDM|   Eugene, OR|        Bend, OR|        11|   72|      4|   103.0|           284093|                 76034|       1990|          10|                3|\n",
      "|                MFR|                     RDM|  Medford, OR|        Bend, OR|         0|   18|      1|   156.0|           147300|                 76034|       1990|           2|                4|\n",
      "|                MFR|                     RDM|  Medford, OR|        Bend, OR|        11|   18|      1|   156.0|           147300|                 76034|       1990|           3|                5|\n",
      "|                MFR|                     RDM|  Medford, OR|        Bend, OR|         2|   72|      4|   156.0|           147300|                 76034|       1990|           1|                6|\n",
      "|                MFR|                     RDM|  Medford, OR|        Bend, OR|         7|   18|      1|   156.0|           147300|                 76034|       1990|           9|                7|\n",
      "|                MFR|                     RDM|  Medford, OR|        Bend, OR|         7|   36|      2|   156.0|           147300|                 76034|       1990|          11|                8|\n",
      "|                SEA|                     RDM|  Seattle, WA|        Bend, OR|         8|   18|      1|   228.0|          5154164|                 76034|       1990|           2|                9|\n",
      "|                SEA|                     RDM|  Seattle, WA|        Bend, OR|       453| 3128|     23|   228.0|          5154164|                 76034|       1990|           1|               10|\n",
      "|                SEA|                     RDM|  Seattle, WA|        Bend, OR|       784| 2720|     20|   228.0|          5154164|                 76034|       1990|           2|               11|\n",
      "|                SEA|                     RDM|  Seattle, WA|        Bend, OR|       749| 2992|     22|   228.0|          5154164|                 76034|       1990|           3|               12|\n",
      "|                SEA|                     RDM|  Seattle, WA|        Bend, OR|        11|   18|      1|   228.0|          5154164|                 76034|       1990|           4|               13|\n",
      "|                PDX|                     RDM| Portland, OR|        Bend, OR|       349|  851|     23|   116.0|          1534762|                 76034|       1990|           1|               14|\n",
      "|                PDX|                     RDM| Portland, OR|        Bend, OR|      1376| 2898|    161|   116.0|          1534762|                 76034|       1990|           1|               15|\n",
      "|                PDX|                     RDM| Portland, OR|        Bend, OR|       444| 1110|     30|   116.0|          1534762|                 76034|       1990|          10|               16|\n",
      "|                PDX|                     RDM| Portland, OR|        Bend, OR|      1949| 3261|    187|   116.0|          1534762|                 76034|       1990|           6|               17|\n",
      "|                PDX|                     RDM| Portland, OR|        Bend, OR|       381|  814|     22|   116.0|          1534762|                 76034|       1990|           2|               18|\n",
      "|                PDX|                     RDM| Portland, OR|        Bend, OR|      1559| 2772|    154|   116.0|          1534762|                 76034|       1990|           2|               19|\n",
      "+-------------------+------------------------+-------------+----------------+----------+-----+-------+--------+-----------------+----------------------+-----------+------------+-----------------+\n",
      "only showing top 20 rows\n",
      "\n"
     ]
    }
   ],
   "source": [
    "df_flights.show()"
   ]
  },
  {
   "cell_type": "code",
   "execution_count": 8,
   "metadata": {},
   "outputs": [
    {
     "name": "stdout",
     "output_type": "stream",
     "text": [
      "+-----+-------------+--------------------+------------+---------+-----------+----------+------------+--------+---------+----------+--------------------+\n",
      "|ident|         type|                name|elevation_ft|continent|iso_country|iso_region|municipality|gps_code|iata_code|local_code|         coordinates|\n",
      "+-----+-------------+--------------------+------------+---------+-----------+----------+------------+--------+---------+----------+--------------------+\n",
      "|  00A|     heliport|   Total Rf Heliport|        11.0|     null|         US|     US-PA|    Bensalem|     00A|     null|       00A|-74.9336013793945...|\n",
      "| 00AA|small_airport|Aero B Ranch Airport|      3435.0|     null|         US|     US-KS|       Leoti|    00AA|     null|      00AA|-101.473911, 38.7...|\n",
      "| 00AK|small_airport|        Lowell Field|       450.0|     null|         US|     US-AK|Anchor Point|    00AK|     null|      00AK|-151.695999146, 5...|\n",
      "| 00AL|small_airport|        Epps Airpark|       820.0|     null|         US|     US-AL|     Harvest|    00AL|     null|      00AL|-86.7703018188476...|\n",
      "| 00AR|       closed|Newport Hospital ...|       237.0|     null|         US|     US-AR|     Newport|    null|     null|      null| -91.254898, 35.6087|\n",
      "| 00AS|small_airport|      Fulton Airport|      1100.0|     null|         US|     US-OK|        Alex|    00AS|     null|      00AS|-97.8180194, 34.9...|\n",
      "| 00AZ|small_airport|      Cordes Airport|      3810.0|     null|         US|     US-AZ|      Cordes|    00AZ|     null|      00AZ|-112.165000915527...|\n",
      "| 00CA|small_airport|Goldstone /Gts/ A...|      3038.0|     null|         US|     US-CA|     Barstow|    00CA|     null|      00CA|-116.888000488, 3...|\n",
      "| 00CL|small_airport| Williams Ag Airport|        87.0|     null|         US|     US-CA|       Biggs|    00CL|     null|      00CL|-121.763427, 39.4...|\n",
      "| 00CN|     heliport|Kitchen Creek Hel...|      3350.0|     null|         US|     US-CA| Pine Valley|    00CN|     null|      00CN|-116.4597417, 32....|\n",
      "| 00CO|       closed|          Cass Field|      4830.0|     null|         US|     US-CO|  Briggsdale|    null|     null|      null|-104.344002, 40.6...|\n",
      "| 00FA|small_airport| Grass Patch Airport|        53.0|     null|         US|     US-FL|    Bushnell|    00FA|     null|      00FA|-82.2190017700195...|\n",
      "| 00FD|     heliport|  Ringhaver Heliport|        25.0|     null|         US|     US-FL|   Riverview|    00FD|     null|      00FD|-82.3453979492187...|\n",
      "| 00FL|small_airport|   River Oak Airport|        35.0|     null|         US|     US-FL|  Okeechobee|    00FL|     null|      00FL|-80.9692001342773...|\n",
      "| 00GA|small_airport|    Lt World Airport|       700.0|     null|         US|     US-GA|    Lithonia|    00GA|     null|      00GA|-84.0682983398437...|\n",
      "| 00GE|     heliport|    Caffrey Heliport|       957.0|     null|         US|     US-GA|       Hiram|    00GE|     null|      00GE|-84.7339019775390...|\n",
      "| 00HI|     heliport|  Kaupulehu Heliport|        43.0|     null|         US|     US-HI| Kailua/Kona|    00HI|     null|      00HI|-155.980233, 19.8...|\n",
      "| 00ID|small_airport|Delta Shores Airport|      2064.0|     null|         US|     US-ID|  Clark Fork|    00ID|     null|      00ID|-116.213996887207...|\n",
      "| 00IG|small_airport|       Goltl Airport|      3359.0|     null|         US|     US-KS|    McDonald|    00IG|     null|      00IG|-101.395994, 39.7...|\n",
      "| 00II|     heliport|Bailey Generation...|       600.0|     null|         US|     US-IN|  Chesterton|    00II|     null|      00II|-87.122802734375,...|\n",
      "+-----+-------------+--------------------+------------+---------+-----------+----------+------------+--------+---------+----------+--------------------+\n",
      "only showing top 20 rows\n",
      "\n"
     ]
    }
   ],
   "source": [
    "df_airport_codes.show()"
   ]
  },
  {
   "cell_type": "markdown",
   "metadata": {},
   "source": [
    "#### a) Join Data"
   ]
  },
  {
   "cell_type": "code",
   "execution_count": 9,
   "metadata": {},
   "outputs": [],
   "source": [
    "df_combined = df_flights.join(df_airport_codes, df_flights.origin_airport_code == df_airport_codes.iata_code, \"left\")"
   ]
  },
  {
   "cell_type": "code",
   "execution_count": 10,
   "metadata": {},
   "outputs": [
    {
     "name": "stdout",
     "output_type": "stream",
     "text": [
      "root\n",
      " |-- origin_airport_code: string (nullable = true)\n",
      " |-- destination_airport_code: string (nullable = true)\n",
      " |-- origin_city: string (nullable = true)\n",
      " |-- destination_city: string (nullable = true)\n",
      " |-- passengers: long (nullable = true)\n",
      " |-- seats: long (nullable = true)\n",
      " |-- flights: long (nullable = true)\n",
      " |-- distance: double (nullable = true)\n",
      " |-- origin_population: long (nullable = true)\n",
      " |-- destination_population: long (nullable = true)\n",
      " |-- flight_year: long (nullable = true)\n",
      " |-- flight_month: long (nullable = true)\n",
      " |-- __index_level_0__: long (nullable = true)\n",
      " |-- ident: string (nullable = true)\n",
      " |-- type: string (nullable = true)\n",
      " |-- name: string (nullable = true)\n",
      " |-- elevation_ft: double (nullable = true)\n",
      " |-- continent: string (nullable = true)\n",
      " |-- iso_country: string (nullable = true)\n",
      " |-- iso_region: string (nullable = true)\n",
      " |-- municipality: string (nullable = true)\n",
      " |-- gps_code: string (nullable = true)\n",
      " |-- iata_code: string (nullable = true)\n",
      " |-- local_code: string (nullable = true)\n",
      " |-- coordinates: string (nullable = true)\n",
      "\n"
     ]
    }
   ],
   "source": [
    "df_combined.printSchema()"
   ]
  },
  {
   "cell_type": "markdown",
   "metadata": {},
   "source": [
    "#### b) Rename and Remove Columns"
   ]
  },
  {
   "cell_type": "code",
   "execution_count": 11,
   "metadata": {},
   "outputs": [],
   "source": [
    "# Drop Columns\n",
    "df_combined = df_combined.drop(\"__index_level_0__\", \"ident\", \"local_code\", \"continent\", \"iso_country\", \"iata_code\")\n",
    "\n",
    "# Rename Columns\n",
    "df_combined = df_combined.withColumnRenamed(\"type\", \"origin_airport_type\") \\\n",
    "                         .withColumnRenamed(\"name\", \"origin_airport_name\") \\\n",
    "                         .withColumnRenamed(\"elevation_ft\", \"origin_airport_elevation_ft\") \\\n",
    "                         .withColumnRenamed(\"iso_region\", \"origin_airport_region\") \\\n",
    "                         .withColumnRenamed(\"municipality\", \"origin_airport_municipality\") \\\n",
    "                         .withColumnRenamed(\"gps_code\", \"origin_airport_gps_code\") \\\n",
    "                         .withColumnRenamed(\"coordinates\", \"origin_airport_coordinates\")"
   ]
  },
  {
   "cell_type": "code",
   "execution_count": 12,
   "metadata": {},
   "outputs": [
    {
     "name": "stdout",
     "output_type": "stream",
     "text": [
      "root\n",
      " |-- origin_airport_code: string (nullable = true)\n",
      " |-- destination_airport_code: string (nullable = true)\n",
      " |-- origin_city: string (nullable = true)\n",
      " |-- destination_city: string (nullable = true)\n",
      " |-- passengers: long (nullable = true)\n",
      " |-- seats: long (nullable = true)\n",
      " |-- flights: long (nullable = true)\n",
      " |-- distance: double (nullable = true)\n",
      " |-- origin_population: long (nullable = true)\n",
      " |-- destination_population: long (nullable = true)\n",
      " |-- flight_year: long (nullable = true)\n",
      " |-- flight_month: long (nullable = true)\n",
      " |-- origin_airport_type: string (nullable = true)\n",
      " |-- origin_airport_name: string (nullable = true)\n",
      " |-- origin_airport_elevation_ft: double (nullable = true)\n",
      " |-- origin_airport_region: string (nullable = true)\n",
      " |-- origin_airport_municipality: string (nullable = true)\n",
      " |-- origin_airport_gps_code: string (nullable = true)\n",
      " |-- origin_airport_coordinates: string (nullable = true)\n",
      "\n"
     ]
    }
   ],
   "source": [
    "df_combined.printSchema()"
   ]
  },
  {
   "cell_type": "markdown",
   "metadata": {},
   "source": [
    "#### c) Join to Destination Airport"
   ]
  },
  {
   "cell_type": "code",
   "execution_count": 13,
   "metadata": {},
   "outputs": [],
   "source": [
    "df_combined = df_combined.join(df_airport_codes, df_flights.destination_airport_code == df_airport_codes.iata_code, \"left\")"
   ]
  },
  {
   "cell_type": "code",
   "execution_count": 14,
   "metadata": {},
   "outputs": [
    {
     "name": "stdout",
     "output_type": "stream",
     "text": [
      "root\n",
      " |-- origin_airport_code: string (nullable = true)\n",
      " |-- destination_airport_code: string (nullable = true)\n",
      " |-- origin_city: string (nullable = true)\n",
      " |-- destination_city: string (nullable = true)\n",
      " |-- passengers: long (nullable = true)\n",
      " |-- seats: long (nullable = true)\n",
      " |-- flights: long (nullable = true)\n",
      " |-- distance: double (nullable = true)\n",
      " |-- origin_population: long (nullable = true)\n",
      " |-- destination_population: long (nullable = true)\n",
      " |-- flight_year: long (nullable = true)\n",
      " |-- flight_month: long (nullable = true)\n",
      " |-- origin_airport_type: string (nullable = true)\n",
      " |-- origin_airport_name: string (nullable = true)\n",
      " |-- origin_airport_elevation_ft: double (nullable = true)\n",
      " |-- origin_airport_region: string (nullable = true)\n",
      " |-- origin_airport_municipality: string (nullable = true)\n",
      " |-- origin_airport_gps_code: string (nullable = true)\n",
      " |-- origin_airport_coordinates: string (nullable = true)\n",
      " |-- ident: string (nullable = true)\n",
      " |-- type: string (nullable = true)\n",
      " |-- name: string (nullable = true)\n",
      " |-- elevation_ft: double (nullable = true)\n",
      " |-- continent: string (nullable = true)\n",
      " |-- iso_country: string (nullable = true)\n",
      " |-- iso_region: string (nullable = true)\n",
      " |-- municipality: string (nullable = true)\n",
      " |-- gps_code: string (nullable = true)\n",
      " |-- iata_code: string (nullable = true)\n",
      " |-- local_code: string (nullable = true)\n",
      " |-- coordinates: string (nullable = true)\n",
      "\n"
     ]
    }
   ],
   "source": [
    "df_combined.printSchema()"
   ]
  },
  {
   "cell_type": "code",
   "execution_count": 15,
   "metadata": {},
   "outputs": [],
   "source": [
    "# Drop Columns\n",
    "df_combined = df_combined.drop(\"__index_level_0__\", \"ident\", \"local_code\", \"continent\", \"iso_country\", \"iata_code\")\n",
    "\n",
    "# Rename Columns\n",
    "df_combined = df_combined.withColumnRenamed(\"type\", \"destination_airport_type\") \\\n",
    "                         .withColumnRenamed(\"name\", \"destination_airport_name\") \\\n",
    "                         .withColumnRenamed(\"elevation_ft\", \"destination_airport_elevation_ft\") \\\n",
    "                         .withColumnRenamed(\"iso_region\", \"destination_airport_region\") \\\n",
    "                         .withColumnRenamed(\"municipality\", \"destination_airport_municipality\") \\\n",
    "                         .withColumnRenamed(\"gps_code\", \"destination_airport_gps_code\") \\\n",
    "                         .withColumnRenamed(\"coordinates\", \"destination_airport_coordinates\")"
   ]
  },
  {
   "cell_type": "code",
   "execution_count": 16,
   "metadata": {},
   "outputs": [
    {
     "name": "stdout",
     "output_type": "stream",
     "text": [
      "root\n",
      " |-- origin_airport_code: string (nullable = true)\n",
      " |-- destination_airport_code: string (nullable = true)\n",
      " |-- origin_city: string (nullable = true)\n",
      " |-- destination_city: string (nullable = true)\n",
      " |-- passengers: long (nullable = true)\n",
      " |-- seats: long (nullable = true)\n",
      " |-- flights: long (nullable = true)\n",
      " |-- distance: double (nullable = true)\n",
      " |-- origin_population: long (nullable = true)\n",
      " |-- destination_population: long (nullable = true)\n",
      " |-- flight_year: long (nullable = true)\n",
      " |-- flight_month: long (nullable = true)\n",
      " |-- origin_airport_type: string (nullable = true)\n",
      " |-- origin_airport_name: string (nullable = true)\n",
      " |-- origin_airport_elevation_ft: double (nullable = true)\n",
      " |-- origin_airport_region: string (nullable = true)\n",
      " |-- origin_airport_municipality: string (nullable = true)\n",
      " |-- origin_airport_gps_code: string (nullable = true)\n",
      " |-- origin_airport_coordinates: string (nullable = true)\n",
      " |-- destination_airport_type: string (nullable = true)\n",
      " |-- destination_airport_name: string (nullable = true)\n",
      " |-- destination_airport_elevation_ft: double (nullable = true)\n",
      " |-- destination_airport_region: string (nullable = true)\n",
      " |-- destination_airport_municipality: string (nullable = true)\n",
      " |-- destination_airport_gps_code: string (nullable = true)\n",
      " |-- destination_airport_coordinates: string (nullable = true)\n",
      "\n"
     ]
    }
   ],
   "source": [
    "df_combined.printSchema()"
   ]
  },
  {
   "cell_type": "markdown",
   "metadata": {},
   "source": [
    "#### d) Top Ten Airports"
   ]
  },
  {
   "cell_type": "code",
   "execution_count": 17,
   "metadata": {},
   "outputs": [],
   "source": [
    "# Filter Data\n",
    "df_2008 = df_combined.filter(df_combined.flight_year == \"2008\")"
   ]
  },
  {
   "cell_type": "code",
   "execution_count": 18,
   "metadata": {},
   "outputs": [],
   "source": [
    "# Perform Aggregations\n",
    "df_top10 = df_2008.groupBy(\"origin_airport_code\", \"origin_city\") \\\n",
    "                  .agg(psf.sum(\"passengers\"), psf.sum(\"flights\"), psf.avg(\"passengers\"), psf.avg(\"flights\")) \\\n",
    "                  .selectExpr(\"origin_city\", \"origin_airport_code\", \"`sum(passengers)` as total_inbound_passengers\", \"`sum(flights)` as total_inbound_flights\", \"`avg(passengers)` as average_daily_passengers\", \"`avg(flights)` as average_daily_flights\") \\\n",
    "                  .orderBy(psf.desc(\"sum(passengers)\"))"
   ]
  },
  {
   "cell_type": "code",
   "execution_count": 19,
   "metadata": {},
   "outputs": [
    {
     "name": "stdout",
     "output_type": "stream",
     "text": [
      "+---------------+-------------------+------------------------+---------------------+------------------------+---------------------+\n",
      "|    origin_city|origin_airport_code|total_inbound_passengers|total_inbound_flights|average_daily_passengers|average_daily_flights|\n",
      "+---------------+-------------------+------------------------+---------------------+------------------------+---------------------+\n",
      "|    Atlanta, GA|                ATL|                35435896|               395729|       4097.109029945658|    45.75430685628396|\n",
      "|    Chicago, IL|                ORD|                26422032|               357181|      2799.5371900826444|   37.844988344988344|\n",
      "|     Dallas, TX|                DFW|                22835496|               270055|       4659.354417465824|     55.1020199959192|\n",
      "|Los Angeles, CA|                LAX|                19757561|               215359|       4029.688150112176|    43.92392412808485|\n",
      "|  Las Vegas, NV|                LAS|                18315421|               163739|      4570.8562515597705|   40.863239331170455|\n",
      "|    Phoenix, AZ|                PHX|                17237993|               181608|      3827.2630994671404|   40.321492007104794|\n",
      "|  Charlotte, NC|                CLT|                15009641|               205650|       2420.519432349621|    33.16400580551524|\n",
      "|    Houston, TX|                IAH|                14854413|               213650|       2680.334355828221|   38.551064597618186|\n",
      "|    Orlando, FL|                MCO|                14494016|               131676|       3884.753685339051|      35.292414902171|\n",
      "|    Detroit, MI|                DTW|                14187841|               192531|      2482.1275367389785|    33.68282015395381|\n",
      "+---------------+-------------------+------------------------+---------------------+------------------------+---------------------+\n",
      "only showing top 10 rows\n",
      "\n"
     ]
    }
   ],
   "source": [
    "df_top10.show(10)"
   ]
  },
  {
   "cell_type": "code",
   "execution_count": 20,
   "metadata": {},
   "outputs": [],
   "source": [
    "df_top10 = df_top10.withColumn(\"rank\", psf.rank().over(Window.orderBy(psf.desc(\"total_inbound_passengers\"))))"
   ]
  },
  {
   "cell_type": "code",
   "execution_count": 21,
   "metadata": {},
   "outputs": [
    {
     "name": "stdout",
     "output_type": "stream",
     "text": [
      "+---------------+-------------------+------------------------+---------------------+------------------------+---------------------+----+\n",
      "|    origin_city|origin_airport_code|total_inbound_passengers|total_inbound_flights|average_daily_passengers|average_daily_flights|rank|\n",
      "+---------------+-------------------+------------------------+---------------------+------------------------+---------------------+----+\n",
      "|    Atlanta, GA|                ATL|                35435896|               395729|       4097.109029945658|    45.75430685628396|   1|\n",
      "|    Chicago, IL|                ORD|                26422032|               357181|      2799.5371900826444|   37.844988344988344|   2|\n",
      "|     Dallas, TX|                DFW|                22835496|               270055|       4659.354417465824|     55.1020199959192|   3|\n",
      "|Los Angeles, CA|                LAX|                19757561|               215359|       4029.688150112176|    43.92392412808485|   4|\n",
      "|  Las Vegas, NV|                LAS|                18315421|               163739|      4570.8562515597705|   40.863239331170455|   5|\n",
      "|    Phoenix, AZ|                PHX|                17237993|               181608|      3827.2630994671404|   40.321492007104794|   6|\n",
      "|  Charlotte, NC|                CLT|                15009641|               205650|       2420.519432349621|    33.16400580551524|   7|\n",
      "|    Houston, TX|                IAH|                14854413|               213650|       2680.334355828221|   38.551064597618186|   8|\n",
      "|    Orlando, FL|                MCO|                14494016|               131676|       3884.753685339051|      35.292414902171|   9|\n",
      "|    Detroit, MI|                DTW|                14187841|               192531|      2482.1275367389785|    33.68282015395381|  10|\n",
      "+---------------+-------------------+------------------------+---------------------+------------------------+---------------------+----+\n",
      "only showing top 10 rows\n",
      "\n"
     ]
    }
   ],
   "source": [
    "df_top10.show(10)"
   ]
  },
  {
   "cell_type": "markdown",
   "metadata": {},
   "source": [
    "#### e) User Defined Functions"
   ]
  },
  {
   "cell_type": "code",
   "execution_count": 22,
   "metadata": {},
   "outputs": [],
   "source": [
    "@psf.udf('double')\n",
    "def get_latitude(coordinates):\n",
    "    split_coords = coordinates.split(',')\n",
    "    if len(split_coords) != 2:\n",
    "        return None\n",
    "\n",
    "    return float(split_coords[0].strip())\n",
    "\n",
    "\n",
    "@psf.udf('double')\n",
    "def get_longitude(coordinates):\n",
    "    split_coords = coordinates.split(',')\n",
    "    if len(split_coords) != 2:\n",
    "        return None\n",
    "\n",
    "    return float(split_coords[1].strip())"
   ]
  },
  {
   "cell_type": "code",
   "execution_count": 23,
   "metadata": {},
   "outputs": [],
   "source": [
    "df_combined = df_combined.withColumn('destination_airport_longitude', get_longitude(df_combined['destination_airport_coordinates'])) \\\n",
    "                         .withColumn('destination_airport_latitude', get_latitude(df_combined['destination_airport_coordinates'])) \\\n",
    "                         .withColumn('origin_airport_longitude', get_longitude(df_combined['origin_airport_coordinates'])) \\\n",
    "                         .withColumn('origin_airport_latitude', get_latitude(df_combined['origin_airport_coordinates']))"
   ]
  },
  {
   "cell_type": "code",
   "execution_count": 24,
   "metadata": {},
   "outputs": [
    {
     "name": "stdout",
     "output_type": "stream",
     "text": [
      "+-------------------+------------------------+-------------+----------------+----------+-----+-------+--------+-----------------+----------------------+-----------+------------+-------------------+--------------------+---------------------------+---------------------+---------------------------+-----------------------+--------------------------+------------------------+------------------------+--------------------------------+--------------------------+--------------------------------+----------------------------+-------------------------------+-----------------------------+----------------------------+------------------------+-----------------------+\n",
      "|origin_airport_code|destination_airport_code|  origin_city|destination_city|passengers|seats|flights|distance|origin_population|destination_population|flight_year|flight_month|origin_airport_type| origin_airport_name|origin_airport_elevation_ft|origin_airport_region|origin_airport_municipality|origin_airport_gps_code|origin_airport_coordinates|destination_airport_type|destination_airport_name|destination_airport_elevation_ft|destination_airport_region|destination_airport_municipality|destination_airport_gps_code|destination_airport_coordinates|destination_airport_longitude|destination_airport_latitude|origin_airport_longitude|origin_airport_latitude|\n",
      "+-------------------+------------------------+-------------+----------------+----------+-----+-------+--------+-----------------+----------------------+-----------+------------+-------------------+--------------------+---------------------------+---------------------+---------------------------+-----------------------+--------------------------+------------------------+------------------------+--------------------------------+--------------------------+--------------------------------+----------------------------+-------------------------------+-----------------------------+----------------------------+------------------------+-----------------------+\n",
      "|                MHK|                     AMW|Manhattan, KS|        Ames, IA|        21|   30|      1|   254.0|           122049|                 86219|       2008|          10|     medium_airport|Manhattan Regiona...|                     1057.0|                US-KS|                  Manhattan|                   KMHK|      -96.6707992553711...|           small_airport|    Ames Municipal Ai...|                           956.0|                     US-IA|                            Ames|                        KAMW|           -93.621803, 41.99...|                    41.992001|                  -93.621803|       39.14099884033203|      -96.6707992553711|\n",
      "|                EUG|                     RDM|   Eugene, OR|        Bend, OR|        41|  396|     22|   103.0|           284093|                 76034|       1990|          11|     medium_airport|  Mahlon Sweet Field|                      374.0|                US-OR|                     Eugene|                   KEUG|      -123.211997985839...|          medium_airport|           Roberts Field|                          3080.0|                     US-OR|                         Redmond|                        KRDM|           -121.1500015, 44....|                   44.2541008|                -121.1500015|       44.12459945678711|    -123.21199798583984|\n",
      "|                EUG|                     RDM|   Eugene, OR|        Bend, OR|        88|  342|     19|   103.0|           284093|                 76034|       1990|          12|     medium_airport|  Mahlon Sweet Field|                      374.0|                US-OR|                     Eugene|                   KEUG|      -123.211997985839...|          medium_airport|           Roberts Field|                          3080.0|                     US-OR|                         Redmond|                        KRDM|           -121.1500015, 44....|                   44.2541008|                -121.1500015|       44.12459945678711|    -123.21199798583984|\n",
      "|                EUG|                     RDM|   Eugene, OR|        Bend, OR|        11|   72|      4|   103.0|           284093|                 76034|       1990|          10|     medium_airport|  Mahlon Sweet Field|                      374.0|                US-OR|                     Eugene|                   KEUG|      -123.211997985839...|          medium_airport|           Roberts Field|                          3080.0|                     US-OR|                         Redmond|                        KRDM|           -121.1500015, 44....|                   44.2541008|                -121.1500015|       44.12459945678711|    -123.21199798583984|\n",
      "|                MFR|                     RDM|  Medford, OR|        Bend, OR|         0|   18|      1|   156.0|           147300|                 76034|       1990|           2|     medium_airport|Rogue Valley Inte...|                     1335.0|                US-OR|                    Medford|                   KMFR|      -122.873001098632...|          medium_airport|           Roberts Field|                          3080.0|                     US-OR|                         Redmond|                        KRDM|           -121.1500015, 44....|                   44.2541008|                -121.1500015|       42.37419891357422|    -122.87300109863281|\n",
      "|                MFR|                     RDM|  Medford, OR|        Bend, OR|        11|   18|      1|   156.0|           147300|                 76034|       1990|           3|     medium_airport|Rogue Valley Inte...|                     1335.0|                US-OR|                    Medford|                   KMFR|      -122.873001098632...|          medium_airport|           Roberts Field|                          3080.0|                     US-OR|                         Redmond|                        KRDM|           -121.1500015, 44....|                   44.2541008|                -121.1500015|       42.37419891357422|    -122.87300109863281|\n",
      "|                MFR|                     RDM|  Medford, OR|        Bend, OR|         2|   72|      4|   156.0|           147300|                 76034|       1990|           1|     medium_airport|Rogue Valley Inte...|                     1335.0|                US-OR|                    Medford|                   KMFR|      -122.873001098632...|          medium_airport|           Roberts Field|                          3080.0|                     US-OR|                         Redmond|                        KRDM|           -121.1500015, 44....|                   44.2541008|                -121.1500015|       42.37419891357422|    -122.87300109863281|\n",
      "|                MFR|                     RDM|  Medford, OR|        Bend, OR|         7|   18|      1|   156.0|           147300|                 76034|       1990|           9|     medium_airport|Rogue Valley Inte...|                     1335.0|                US-OR|                    Medford|                   KMFR|      -122.873001098632...|          medium_airport|           Roberts Field|                          3080.0|                     US-OR|                         Redmond|                        KRDM|           -121.1500015, 44....|                   44.2541008|                -121.1500015|       42.37419891357422|    -122.87300109863281|\n",
      "|                MFR|                     RDM|  Medford, OR|        Bend, OR|         7|   36|      2|   156.0|           147300|                 76034|       1990|          11|     medium_airport|Rogue Valley Inte...|                     1335.0|                US-OR|                    Medford|                   KMFR|      -122.873001098632...|          medium_airport|           Roberts Field|                          3080.0|                     US-OR|                         Redmond|                        KRDM|           -121.1500015, 44....|                   44.2541008|                -121.1500015|       42.37419891357422|    -122.87300109863281|\n",
      "|                SEA|                     RDM|  Seattle, WA|        Bend, OR|         8|   18|      1|   228.0|          5154164|                 76034|       1990|           2|      large_airport|Seattle Tacoma In...|                      433.0|                US-WA|                    Seattle|                   KSEA|      -122.308998, 47.4...|          medium_airport|           Roberts Field|                          3080.0|                     US-OR|                         Redmond|                        KRDM|           -121.1500015, 44....|                   44.2541008|                -121.1500015|               47.449001|            -122.308998|\n",
      "|                SEA|                     RDM|  Seattle, WA|        Bend, OR|       453| 3128|     23|   228.0|          5154164|                 76034|       1990|           1|      large_airport|Seattle Tacoma In...|                      433.0|                US-WA|                    Seattle|                   KSEA|      -122.308998, 47.4...|          medium_airport|           Roberts Field|                          3080.0|                     US-OR|                         Redmond|                        KRDM|           -121.1500015, 44....|                   44.2541008|                -121.1500015|               47.449001|            -122.308998|\n",
      "|                SEA|                     RDM|  Seattle, WA|        Bend, OR|       784| 2720|     20|   228.0|          5154164|                 76034|       1990|           2|      large_airport|Seattle Tacoma In...|                      433.0|                US-WA|                    Seattle|                   KSEA|      -122.308998, 47.4...|          medium_airport|           Roberts Field|                          3080.0|                     US-OR|                         Redmond|                        KRDM|           -121.1500015, 44....|                   44.2541008|                -121.1500015|               47.449001|            -122.308998|\n",
      "|                SEA|                     RDM|  Seattle, WA|        Bend, OR|       749| 2992|     22|   228.0|          5154164|                 76034|       1990|           3|      large_airport|Seattle Tacoma In...|                      433.0|                US-WA|                    Seattle|                   KSEA|      -122.308998, 47.4...|          medium_airport|           Roberts Field|                          3080.0|                     US-OR|                         Redmond|                        KRDM|           -121.1500015, 44....|                   44.2541008|                -121.1500015|               47.449001|            -122.308998|\n",
      "|                SEA|                     RDM|  Seattle, WA|        Bend, OR|        11|   18|      1|   228.0|          5154164|                 76034|       1990|           4|      large_airport|Seattle Tacoma In...|                      433.0|                US-WA|                    Seattle|                   KSEA|      -122.308998, 47.4...|          medium_airport|           Roberts Field|                          3080.0|                     US-OR|                         Redmond|                        KRDM|           -121.1500015, 44....|                   44.2541008|                -121.1500015|               47.449001|            -122.308998|\n",
      "|                PDX|                     RDM| Portland, OR|        Bend, OR|       349|  851|     23|   116.0|          1534762|                 76034|       1990|           1|      large_airport|Portland Internat...|                       31.0|                US-OR|                   Portland|                   KPDX|      -122.5979996, 45....|          medium_airport|           Roberts Field|                          3080.0|                     US-OR|                         Redmond|                        KRDM|           -121.1500015, 44....|                   44.2541008|                -121.1500015|             45.58869934|           -122.5979996|\n",
      "|                PDX|                     RDM| Portland, OR|        Bend, OR|      1376| 2898|    161|   116.0|          1534762|                 76034|       1990|           1|      large_airport|Portland Internat...|                       31.0|                US-OR|                   Portland|                   KPDX|      -122.5979996, 45....|          medium_airport|           Roberts Field|                          3080.0|                     US-OR|                         Redmond|                        KRDM|           -121.1500015, 44....|                   44.2541008|                -121.1500015|             45.58869934|           -122.5979996|\n",
      "|                PDX|                     RDM| Portland, OR|        Bend, OR|       444| 1110|     30|   116.0|          1534762|                 76034|       1990|          10|      large_airport|Portland Internat...|                       31.0|                US-OR|                   Portland|                   KPDX|      -122.5979996, 45....|          medium_airport|           Roberts Field|                          3080.0|                     US-OR|                         Redmond|                        KRDM|           -121.1500015, 44....|                   44.2541008|                -121.1500015|             45.58869934|           -122.5979996|\n",
      "|                PDX|                     RDM| Portland, OR|        Bend, OR|      1949| 3261|    187|   116.0|          1534762|                 76034|       1990|           6|      large_airport|Portland Internat...|                       31.0|                US-OR|                   Portland|                   KPDX|      -122.5979996, 45....|          medium_airport|           Roberts Field|                          3080.0|                     US-OR|                         Redmond|                        KRDM|           -121.1500015, 44....|                   44.2541008|                -121.1500015|             45.58869934|           -122.5979996|\n",
      "|                PDX|                     RDM| Portland, OR|        Bend, OR|       381|  814|     22|   116.0|          1534762|                 76034|       1990|           2|      large_airport|Portland Internat...|                       31.0|                US-OR|                   Portland|                   KPDX|      -122.5979996, 45....|          medium_airport|           Roberts Field|                          3080.0|                     US-OR|                         Redmond|                        KRDM|           -121.1500015, 44....|                   44.2541008|                -121.1500015|             45.58869934|           -122.5979996|\n",
      "|                PDX|                     RDM| Portland, OR|        Bend, OR|      1559| 2772|    154|   116.0|          1534762|                 76034|       1990|           2|      large_airport|Portland Internat...|                       31.0|                US-OR|                   Portland|                   KPDX|      -122.5979996, 45....|          medium_airport|           Roberts Field|                          3080.0|                     US-OR|                         Redmond|                        KRDM|           -121.1500015, 44....|                   44.2541008|                -121.1500015|             45.58869934|           -122.5979996|\n",
      "+-------------------+------------------------+-------------+----------------+----------+-----+-------+--------+-----------------+----------------------+-----------+------------+-------------------+--------------------+---------------------------+---------------------+---------------------------+-----------------------+--------------------------+------------------------+------------------------+--------------------------------+--------------------------+--------------------------------+----------------------------+-------------------------------+-----------------------------+----------------------------+------------------------+-----------------------+\n",
      "only showing top 20 rows\n",
      "\n"
     ]
    }
   ],
   "source": [
    "df_combined.show()"
   ]
  }
 ],
 "metadata": {
  "kernelspec": {
   "display_name": "Python 3",
   "language": "python",
   "name": "python3"
  },
  "language_info": {
   "codemirror_mode": {
    "name": "ipython",
    "version": 3
   },
   "file_extension": ".py",
   "mimetype": "text/x-python",
   "name": "python",
   "nbconvert_exporter": "python",
   "pygments_lexer": "ipython3",
   "version": "3.7.6"
  }
 },
 "nbformat": 4,
 "nbformat_minor": 2
}
